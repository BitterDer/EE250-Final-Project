{
 "cells": [
  {
   "cell_type": "code",
   "execution_count": 1,
   "id": "3bf652a5-51f3-444f-99d0-88b5ab86d43c",
   "metadata": {},
   "outputs": [],
   "source": [
    "import pickle\n",
    "\n",
    "import numpy as np\n",
    "import pandas as pd\n",
    "\n",
    "from matplotlib import pyplot as plt\n",
    "plt.rcParams['figure.figsize'] = (10,7)\n",
    "import seaborn as sns\n",
    "\n",
    "from sklearn.model_selection import train_test_split"
   ]
  },
  {
   "cell_type": "code",
   "execution_count": 2,
   "id": "cd9c4539-8286-4081-b577-a4cf8b0cf351",
   "metadata": {},
   "outputs": [
    {
     "data": {
      "text/html": [
       "<div>\n",
       "<style scoped>\n",
       "    .dataframe tbody tr th:only-of-type {\n",
       "        vertical-align: middle;\n",
       "    }\n",
       "\n",
       "    .dataframe tbody tr th {\n",
       "        vertical-align: top;\n",
       "    }\n",
       "\n",
       "    .dataframe thead th {\n",
       "        text-align: right;\n",
       "    }\n",
       "</style>\n",
       "<table border=\"1\" class=\"dataframe\">\n",
       "  <thead>\n",
       "    <tr style=\"text-align: right;\">\n",
       "      <th></th>\n",
       "      <th>volume</th>\n",
       "      <th>genre</th>\n",
       "    </tr>\n",
       "  </thead>\n",
       "  <tbody>\n",
       "    <tr>\n",
       "      <th>0</th>\n",
       "      <td>50</td>\n",
       "      <td>blues</td>\n",
       "    </tr>\n",
       "    <tr>\n",
       "      <th>1</th>\n",
       "      <td>51</td>\n",
       "      <td>blues</td>\n",
       "    </tr>\n",
       "    <tr>\n",
       "      <th>2</th>\n",
       "      <td>57</td>\n",
       "      <td>blues</td>\n",
       "    </tr>\n",
       "    <tr>\n",
       "      <th>3</th>\n",
       "      <td>59</td>\n",
       "      <td>blues</td>\n",
       "    </tr>\n",
       "    <tr>\n",
       "      <th>4</th>\n",
       "      <td>69</td>\n",
       "      <td>blues</td>\n",
       "    </tr>\n",
       "    <tr>\n",
       "      <th>5</th>\n",
       "      <td>77</td>\n",
       "      <td>blues</td>\n",
       "    </tr>\n",
       "    <tr>\n",
       "      <th>6</th>\n",
       "      <td>84</td>\n",
       "      <td>blues</td>\n",
       "    </tr>\n",
       "    <tr>\n",
       "      <th>7</th>\n",
       "      <td>200</td>\n",
       "      <td>pop</td>\n",
       "    </tr>\n",
       "    <tr>\n",
       "      <th>8</th>\n",
       "      <td>280</td>\n",
       "      <td>pop</td>\n",
       "    </tr>\n",
       "    <tr>\n",
       "      <th>9</th>\n",
       "      <td>212</td>\n",
       "      <td>pop</td>\n",
       "    </tr>\n",
       "  </tbody>\n",
       "</table>\n",
       "</div>"
      ],
      "text/plain": [
       "   volume  genre\n",
       "0      50  blues\n",
       "1      51  blues\n",
       "2      57  blues\n",
       "3      59  blues\n",
       "4      69  blues\n",
       "5      77  blues\n",
       "6      84  blues\n",
       "7     200    pop\n",
       "8     280    pop\n",
       "9     212    pop"
      ]
     },
     "execution_count": 2,
     "metadata": {},
     "output_type": "execute_result"
    }
   ],
   "source": [
    "genres = pd.read_csv(\"genres.csv\") \n",
    "genres.head(10)"
   ]
  },
  {
   "cell_type": "code",
   "execution_count": 3,
   "id": "d33d04d3-4b62-4648-af45-14874fd7355d",
   "metadata": {},
   "outputs": [
    {
     "data": {
      "text/plain": [
       "<matplotlib.axes._subplots.AxesSubplot at 0x7fce19007438>"
      ]
     },
     "execution_count": 3,
     "metadata": {},
     "output_type": "execute_result"
    },
    {
     "data": {
      "image/png": "[encoded data removed]",
      "text/plain": [
       "<Figure size 720x504 with 1 Axes>"
      ]
     },
     "metadata": {
      "needs_background": "light"
     },
     "output_type": "display_data"
    }
   ],
   "source": [
    "#sns.scatterplot(x=\"reflectance\",y=\"weight\",data=coins, hue=\"denomination\")\n",
    "sns.barplot(x = 'genre', y = 'volume', data = genres,\n",
    "            palette = 'hls',\n",
    "            order = ['blues', 'pop', 'rock', 'jazz'],  \n",
    "            capsize = 0.05,             \n",
    "            saturation = 8,             \n",
    "            errcolor = 'gray', errwidth = 2,  \n",
    "            ci = 'sd'   \n",
    "            )"
   ]
  },
  {
   "cell_type": "code",
   "execution_count": 4,
   "id": "ecf09963-23dc-4b50-9615-207d9ec80140",
   "metadata": {},
   "outputs": [],
   "source": [
    "# test train split\n",
    "X = genres[[\"volume\"]].to_numpy()\n",
    "y = genres[[\"genre\"]].to_numpy()\n",
    "X_train, X_test, y_train, y_test = train_test_split(X, y, test_size=0.2, random_state=42)"
   ]
  },
  {
   "cell_type": "code",
   "execution_count": 5,
   "id": "4d0f202b-e630-4738-9fca-ad24fe3c4c49",
   "metadata": {},
   "outputs": [
    {
     "name": "stderr",
     "output_type": "stream",
     "text": [
      "/home/ee250/.local/lib/python3.6/site-packages/sklearn/neighbors/_classification.py:179: DataConversionWarning: A column-vector y was passed when a 1d array was expected. Please change the shape of y to (n_samples,), for example using ravel().\n",
      "  return self._fit(X, y)\n"
     ]
    },
    {
     "data": {
      "text/plain": [
       "KNeighborsClassifier(n_neighbors=3)"
      ]
     },
     "execution_count": 5,
     "metadata": {},
     "output_type": "execute_result"
    }
   ],
   "source": [
    "## Import your favourite classifier and train it using the X_train data and hte y_train labels\n",
    "from sklearn.neighbors import KNeighborsClassifier\n",
    "clf = KNeighborsClassifier(n_neighbors = 3)\n",
    "clf.fit(X_train, y_train)\n",
    "## make sure you instantiate your classifier and name it clf\n",
    "\n",
    "## for example, if you are using perceptron, you would do the following - \n",
    "\n",
    "# -> from sklearn.linear_model import Perceptron\n",
    "# -> clf = Perceptron(tol=1e-3, random_state=0)\n",
    "# .... call fit , etc."
   ]
  },
  {
   "cell_type": "code",
   "execution_count": 6,
   "id": "1e59ce5b-ef36-4529-9d22-df9dd535df8a",
   "metadata": {},
   "outputs": [
    {
     "data": {
      "text/plain": [
       "array(['blues', 'jazz', 'jazz', 'pop', 'jazz', 'pop', 'blues', 'pop',\n",
       "       'rock', 'blues'], dtype=object)"
      ]
     },
     "execution_count": 6,
     "metadata": {},
     "output_type": "execute_result"
    }
   ],
   "source": [
    "## test the accuracy of your model\n",
    "predictions = clf.predict(X_test)\n",
    "predictions"
   ]
  },
  {
   "cell_type": "code",
   "execution_count": 7,
   "id": "87a2517a-f772-43e3-9acd-f0490501a0fe",
   "metadata": {},
   "outputs": [
    {
     "data": {
      "text/plain": [
       "<matplotlib.axes._subplots.AxesSubplot at 0x7fce0e91fc88>"
      ]
     },
     "execution_count": 7,
     "metadata": {},
     "output_type": "execute_result"
    },
    {
     "data": {
      "image/png": "[encoded data removed]",
      "text/plain": [
       "<Figure size 720x504 with 1 Axes>"
      ]
     },
     "metadata": {
      "needs_background": "light"
     },
     "output_type": "display_data"
    }
   ],
   "source": [
    "## plot the decision boundary of your classifier along with the scatterplot of the training data\n",
    "## hint: look at the ann example\n",
    "##DECISION BOUNDARY\n",
    "volume = np.linspace(20, 30, 1000) \n",
    "\n",
    "from itertools import product\n",
    "randata = np.array(list(product(volume)))\n",
    "randata\n",
    "graph = clf.predict(randata)\n",
    "db = pd.DataFrame({\"volume\":randata[:,0], \"genre\":graph })\n",
    "X_train, X_test, y_train, y_test = train_test_split(X, y, test_size=0.2, random_state=42)\n",
    "\n",
    "##SCATTERPLOT TRAINING DATA\n",
    "#sns.scatterplot(data = db, x = \"genre\", y = \"volume\", hue=\"genre\")\n",
    "sns.barplot(x = 'genre', y = 'volume', data = genres,\n",
    "            palette = 'hls',\n",
    "            order = ['blues', 'pop', 'rock', 'jazz'],  \n",
    "            capsize = 0.05,             \n",
    "            saturation = 8,             \n",
    "            errcolor = 'gray', errwidth = 2,  \n",
    "            ci = 'sd'   \n",
    "            )\n",
    "\n",
    "#plt.scatter(X_train[:,0], X_train[:,1], color=\"red\")\n",
    "#plt.xlim(0, 30)"
   ]
  },
  {
   "cell_type": "code",
   "execution_count": 8,
   "id": "26650fae-4a34-4533-b8ba-771e228f5277",
   "metadata": {},
   "outputs": [],
   "source": [
    "## additional stuff you want to add "
   ]
  },
  {
   "cell_type": "code",
   "execution_count": 9,
   "id": "5265e004-3e48-4ddb-b3c9-b375051cc6a2",
   "metadata": {},
   "outputs": [],
   "source": [
    "# dump your classifier into a pickle file\n",
    "pickle.dump(clf, open(\"model.pickle\",\"wb\"))"
   ]
  },
  {
   "cell_type": "code",
   "execution_count": null,
   "id": "9e677cb8-0d03-4ff2-afa2-d0c1db125c04",
   "metadata": {},
   "outputs": [],
   "source": []
  }
 ],
 "metadata": {
  "kernelspec": {
   "display_name": "Python 3",
   "language": "python",
   "name": "python3"
  },
  "language_info": {
   "codemirror_mode": {
    "name": "ipython",
    "version": 3
   },
   "file_extension": ".py",
   "mimetype": "text/x-python",
   "name": "python",
   "nbconvert_exporter": "python",
   "pygments_lexer": "ipython3",
   "version": "3.6.9"
  }
 },
 "nbformat": 4,
 "nbformat_minor": 5
}
